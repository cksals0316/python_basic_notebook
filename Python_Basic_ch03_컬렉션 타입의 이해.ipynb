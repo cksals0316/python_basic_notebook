{
 "cells": [
  {
   "cell_type": "markdown",
   "id": "d33e32cc",
   "metadata": {},
   "source": [
    "## 컬렉션 타입\n",
    "- 변수 : 하나의 값을 저장할 수 있는 메모리 공간\n",
    "- 컬렉션 타입 : 다양한 자료형의 여러값을 저장 가능\n",
    "- list, dict, tuple, set\n",
    "\n",
    "1. list[]\n",
    "- 시퀸스 자료형(연속 된 값 저장) → 정렬 가능\n",
    "- mutable(생성 후 변경 가능)\n",
    "- packing과 unpacking 가능\n",
    "- 멤버함수 : append(), extend(), insert(), remove(), pop(), sort() 등등\n",
    "\n",
    "2. tuple()\n",
    "- 시퀸스 자료형(연속 된 값 저장) → 정렬 불가능\n",
    "- mutable(생성 후 변경 가능)\n",
    "- index 사용 → slicing 가능\n",
    "- () 생략 가능\n",
    "- 1개의 원소만 가지는 경우 ,사용 →(1,)\n",
    "\n",
    "3. dict{key:value}\n",
    "- key, value 한 쌍으로 구성된 구조\n",
    "- key를 통해서 value 접근\n",
    "- key 중복 불가, value 중복 가능\n",
    "- 순서 없음 → index 없음\n",
    "- 멤버함수 : update(), get(), keys(), values(), items()\n",
    "\n",
    "4. set{}\n",
    "- dixt type에서 key만 활용하는 데이터 구조로 이해\n",
    "- 수학 집합과 같은 개념\n",
    "- 순서 없음 → index 없음\n",
    "- set 구조 내 중복값 허용 안함\n",
    "- 멤버함수: union(), intersection(), difference() 등"
   ]
  },
  {
   "cell_type": "code",
   "execution_count": 1,
   "id": "9f1e6664",
   "metadata": {},
   "outputs": [],
   "source": [
    "# list 초기화\n",
    "# 1. []\n",
    "# 2. list()\n",
    "\n",
    "list_a = []\n",
    "list_b = [1, 2, 3]\n",
    "list_c = [\"cnu\", 3.14, [1, 2, 3]]"
   ]
  },
  {
   "cell_type": "code",
   "execution_count": 7,
   "id": "98b2b915",
   "metadata": {},
   "outputs": [
    {
     "name": "stdout",
     "output_type": "stream",
     "text": [
      "['H', 'e', 'l', 'l', 'o']\n",
      "[1, 2, 3]\n"
     ]
    }
   ],
   "source": [
    "str_a = \"Hello\"\n",
    "list_d = list(str_a)  # 문자열 → list 형변환\n",
    "print(list_d)\n",
    "\n",
    "tuple_a = (1, 2, 3)\n",
    "list_e = list(tuple_a)\n",
    "print(list_e)"
   ]
  },
  {
   "cell_type": "code",
   "execution_count": 8,
   "id": "98a65281",
   "metadata": {},
   "outputs": [
    {
     "name": "stdout",
     "output_type": "stream",
     "text": [
      "4\n",
      "[2, 3]\n",
      "[1, 2, 3, 4]\n"
     ]
    }
   ],
   "source": [
    "list_f = [1, 2, 3, 4, 5]\n",
    "print(list_f[3])\n",
    "print(list_f[1:3])\n",
    "print(list_f[:4])"
   ]
  },
  {
   "cell_type": "code",
   "execution_count": 9,
   "id": "7d6790fb",
   "metadata": {},
   "outputs": [
    {
     "name": "stdout",
     "output_type": "stream",
     "text": [
      "[1, 2, 3, 10]\n"
     ]
    }
   ],
   "source": [
    "# append() : list 마지막에 값을 추가\n",
    "a = [1,2,3]\n",
    "a.append(10)\n",
    "print(a)"
   ]
  },
  {
   "cell_type": "code",
   "execution_count": 12,
   "id": "0c423ac8",
   "metadata": {},
   "outputs": [
    {
     "name": "stdout",
     "output_type": "stream",
     "text": [
      "[1, 100, 2, 3]\n"
     ]
    }
   ],
   "source": [
    "# insert() : list 원하는 인덱스 위치에 값을 추가\n",
    "a = [1, 2, 3]\n",
    "a.insert(1, 100)\n",
    "print(a)"
   ]
  },
  {
   "cell_type": "code",
   "execution_count": 13,
   "id": "00799a5e",
   "metadata": {},
   "outputs": [
    {
     "name": "stdout",
     "output_type": "stream",
     "text": [
      "[1, 2, 3, [4, 5, 6]]\n"
     ]
    }
   ],
   "source": [
    "# extend() : list와 list 병합\n",
    "a = [1, 2, 3]\n",
    "b = [4, 5, 6]\n",
    "\n",
    "\n",
    "a.append(b)\n",
    "print(a)"
   ]
  },
  {
   "cell_type": "code",
   "execution_count": 3,
   "id": "a61c51bc",
   "metadata": {
    "scrolled": true
   },
   "outputs": [
    {
     "name": "stdout",
     "output_type": "stream",
     "text": [
      "[1, 2, 3, 4, 5, 6]\n"
     ]
    }
   ],
   "source": [
    "a = [1, 2, 3]\n",
    "b = [4, 5, 6]\n",
    "# a.extend(b)\n",
    "a += b # a = a + b (곱셈, 나눗셈 등 사칙연삭 모두 가능)\n",
    "print(a)"
   ]
  },
  {
   "cell_type": "code",
   "execution_count": 4,
   "id": "bee313e6",
   "metadata": {},
   "outputs": [
    {
     "name": "stdout",
     "output_type": "stream",
     "text": [
      "[1, 3]\n"
     ]
    }
   ],
   "source": [
    "# remove() : 값을 통해서 삭제(인덱스 X)\n",
    "a = [1, 2, 3]\n",
    "a.remove(2)\n",
    "print(a)\n"
   ]
  },
  {
   "cell_type": "code",
   "execution_count": 5,
   "id": "11138fec",
   "metadata": {},
   "outputs": [
    {
     "name": "stdout",
     "output_type": "stream",
     "text": [
      "[4, 5]\n",
      "6\n"
     ]
    }
   ],
   "source": [
    "# pop() : 인덱스를 통해서 삭제( + 삭제 전 값을 변수에 저장 가능)\n",
    "a = [4, 5, 6]\n",
    "# a.pop(1)\n",
    "b = a.pop(2)\n",
    "print(a)\n",
    "print(b)"
   ]
  },
  {
   "cell_type": "code",
   "execution_count": 8,
   "id": "53a00345",
   "metadata": {},
   "outputs": [
    {
     "name": "stdout",
     "output_type": "stream",
     "text": [
      "2\n"
     ]
    }
   ],
   "source": [
    "# index() : 찾고자 하는 값의 인덱스 번호 출력\n",
    "a = [8, 10, 20, 5, 3]\n",
    "print(a.index(20))\n"
   ]
  },
  {
   "cell_type": "code",
   "execution_count": 11,
   "id": "103d7088",
   "metadata": {},
   "outputs": [
    {
     "data": {
      "text/plain": [
       "'cksals7656'"
      ]
     },
     "execution_count": 11,
     "metadata": {},
     "output_type": "execute_result"
    }
   ],
   "source": [
    "email = \"cksals7656@naver.com\"\n",
    "\n",
    "email_idx = email.index(\"@\")\n",
    "email[:email_idx]"
   ]
  },
  {
   "cell_type": "code",
   "execution_count": 13,
   "id": "172e2950",
   "metadata": {},
   "outputs": [
    {
     "name": "stdout",
     "output_type": "stream",
     "text": [
      "True\n",
      "False\n"
     ]
    }
   ],
   "source": [
    "# in : list내에 해당 값이 존재(True, False)\n",
    "a = [1, 2, 3]\n",
    "print(3 in a)\n",
    "print(5 in a)"
   ]
  },
  {
   "cell_type": "code",
   "execution_count": 17,
   "id": "faf9a686",
   "metadata": {},
   "outputs": [
    {
     "name": "stdout",
     "output_type": "stream",
     "text": [
      "[2, 4, 10, 99, 87, 56, 66]\n",
      "[2, 4, 10, 56, 66, 87, 99]\n",
      "==================================================\n",
      "[99, 87, 66, 56, 10, 4, 2]\n"
     ]
    }
   ],
   "source": [
    "# sort() and sorted() : list 정렬\n",
    "# -sort() : 원본 list 정렬\n",
    "# -sorted() : list 복제 후 정렬\n",
    "\n",
    "a = [2, 4, 10, 99, 87, 56, 66]\n",
    "\n",
    "b = sorted(a) # 정렬 default: 오름차순\n",
    "print(a)\n",
    "print(b)\n",
    "print(\"=\" * 50)\n",
    "a.sort(reverse=True)\n",
    "print(a)"
   ]
  },
  {
   "cell_type": "markdown",
   "id": "c9eb581b",
   "metadata": {},
   "source": [
    "### 2.tuple"
   ]
  },
  {
   "cell_type": "code",
   "execution_count": 20,
   "id": "6fe737ed",
   "metadata": {},
   "outputs": [
    {
     "name": "stdout",
     "output_type": "stream",
     "text": [
      "<class 'list'>\n",
      "<class 'tuple'>\n",
      "<class 'tuple'>\n",
      "[99, 2, 3]\n"
     ]
    }
   ],
   "source": [
    "a = [1, 2, 3] # list type\n",
    "b = (1, 2, 3) # tuple type\n",
    "c = 5, 6, 7   # tuple type\n",
    "\n",
    "print(type(a))\n",
    "print(type(b))\n",
    "print(type(c))\n",
    "\n",
    "a[0] = 99\n",
    "print(a)\n",
    "\n",
    "#b[0] = 99\n",
    " #print(b)   → tuple은 값을 변경X"
   ]
  },
  {
   "cell_type": "code",
   "execution_count": 21,
   "id": "c240e258",
   "metadata": {},
   "outputs": [
    {
     "name": "stdout",
     "output_type": "stream",
     "text": [
      "1 2 3\n"
     ]
    }
   ],
   "source": [
    "# packing and unpacking\n",
    "# - list와 tuple 가능\n",
    "# - [], () → 값을 묶음(packing)\n",
    "\n",
    "tuple_num = (1, 2, 3) # packing\n",
    "a, b, c = tuple_num   # unpacking\n",
    "print(a, b, c)"
   ]
  },
  {
   "cell_type": "markdown",
   "id": "bcc0919f",
   "metadata": {},
   "source": [
    "### 연습문제\n",
    "\n",
    "변수 a와 b의 값을 교환하세요"
   ]
  },
  {
   "cell_type": "code",
   "execution_count": 27,
   "id": "eb54448a",
   "metadata": {},
   "outputs": [
    {
     "name": "stdout",
     "output_type": "stream",
     "text": [
      "5\n",
      "9\n"
     ]
    }
   ],
   "source": [
    "a = 5\n",
    "b = 9\n",
    "\n",
    "# 코드 작성\n",
    "\n",
    "# 코드 작성\n",
    "# 1. 임시 변수 사용\n",
    "temp = a\n",
    "a = b\n",
    "b = temp\n",
    "\n",
    "# 2. tuple() 사용\n",
    "a, b = b, a\n",
    "\n",
    "print(a) # 출력 9\n",
    "print(b) # 출력 5\n"
   ]
  },
  {
   "cell_type": "markdown",
   "id": "9d941c5e",
   "metadata": {},
   "source": [
    "### 3.dict"
   ]
  },
  {
   "cell_type": "code",
   "execution_count": 28,
   "id": "44a782a6",
   "metadata": {},
   "outputs": [
    {
     "name": "stdout",
     "output_type": "stream",
     "text": [
      "ottawa\n",
      "9\n"
     ]
    }
   ],
   "source": [
    "          # key   :  value\n",
    "dict_a = {\"korea\" : \"seoul\",\n",
    "         \"canada\" : \"ottawa\",\n",
    "         \"usa\" : \"washington D.C\"}\n",
    "dict_b = {0:1, 1:6, 2:4, 3:9}\n",
    "print(dict_a[\"canada\"])\n",
    "print(dict_b[3])"
   ]
  },
  {
   "cell_type": "code",
   "execution_count": 33,
   "id": "ab76444e",
   "metadata": {
    "scrolled": true
   },
   "outputs": [
    {
     "name": "stdout",
     "output_type": "stream",
     "text": [
      "{'Japan': 'kyoto',\n",
      " 'Japan2': 'kyoto',\n",
      " 'canada': 'ottawa',\n",
      " 'korea': 'seoul',\n",
      " 'usa': 'washington D.C'}\n"
     ]
    }
   ],
   "source": [
    "import pprint\n",
    "dict_a = {\"korea\" : \"seoul\",\n",
    "         \"canada\" : \"ottawa\",\n",
    "         \"usa\" : \"washington D.C\"}\n",
    "# 값을 입력 → key 값이 X(입력), key값이 0(수정)\n",
    "dict_a[\"Japan\"] = \"tokyo\"\n",
    "dict_a[\"Japan\"] = \"kyoto\"\n",
    "dict_a[\"Japan2\"] = \"kyoto\"\n",
    " \n",
    "# print(dict_a)\n",
    "pprint.pprint(dict_a)"
   ]
  },
  {
   "cell_type": "code",
   "execution_count": 34,
   "id": "6bcdd4fa",
   "metadata": {},
   "outputs": [
    {
     "name": "stdout",
     "output_type": "stream",
     "text": [
      "{'a': 9, 'b': 4, 'c': 5}\n"
     ]
    }
   ],
   "source": [
    "# update() : dict와 dict 병합\n",
    "a = {\n",
    "    \"a\" : 1,\n",
    "    \"b\" : 2\n",
    "}\n",
    "b = {\n",
    "    \"a\" :9,\n",
    "    \"b\" :4,\n",
    "    \"c\" :5\n",
    "}\n",
    "a.update(b)\n",
    "print(a)"
   ]
  },
  {
   "cell_type": "code",
   "execution_count": 35,
   "id": "93bdf4a6",
   "metadata": {},
   "outputs": [
    {
     "name": "stdout",
     "output_type": "stream",
     "text": [
      "{'b': 4, 'c': 5}\n",
      "9\n"
     ]
    }
   ],
   "source": [
    "# pop() : dict 항목 삭제\n",
    "c = a.pop(\"a\")\n",
    "print(a)\n",
    "print(c)"
   ]
  },
  {
   "cell_type": "code",
   "execution_count": 43,
   "id": "8616b55a",
   "metadata": {},
   "outputs": [
    {
     "name": "stdout",
     "output_type": "stream",
     "text": [
      "None\n"
     ]
    }
   ],
   "source": [
    "# 값 접근\n",
    "\n",
    "#print(a[\"f\"])\n",
    "print(a.get(\"f\"))"
   ]
  },
  {
   "cell_type": "code",
   "execution_count": 41,
   "id": "c73dceba",
   "metadata": {},
   "outputs": [
    {
     "name": "stdout",
     "output_type": "stream",
     "text": [
      "True\n"
     ]
    }
   ],
   "source": [
    "# in\n",
    "print(\"b\" in a)\n"
   ]
  },
  {
   "cell_type": "code",
   "execution_count": null,
   "id": "1d0ad67b",
   "metadata": {},
   "outputs": [],
   "source": [
    "# clear() : dict 초기화\n",
    "print(a)\n",
    "a.clear()\n",
    "print(a)"
   ]
  }
 ],
 "metadata": {
  "kernelspec": {
   "display_name": "Python 3 (ipykernel)",
   "language": "python",
   "name": "python3"
  },
  "language_info": {
   "codemirror_mode": {
    "name": "ipython",
    "version": 3
   },
   "file_extension": ".py",
   "mimetype": "text/x-python",
   "name": "python",
   "nbconvert_exporter": "python",
   "pygments_lexer": "ipython3",
   "version": "3.9.13"
  }
 },
 "nbformat": 4,
 "nbformat_minor": 5
}
