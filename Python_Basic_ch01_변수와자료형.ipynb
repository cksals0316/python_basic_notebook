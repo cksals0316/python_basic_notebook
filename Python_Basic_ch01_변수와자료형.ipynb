{
 "cells": [
  {
   "cell_type": "markdown",
   "id": "6c6a0368",
   "metadata": {},
   "source": [
    "## 1. 출력 함수(print)\n",
    "print() 함수\n",
    "\n",
    "  - ()안의 값을 출력해주는 함수\n",
    "  - 변수 값을 확인하는 용도로도 사용"
   ]
  },
  {
   "cell_type": "code",
   "execution_count": 1,
   "id": "d1a22b4c",
   "metadata": {},
   "outputs": [
    {
     "name": "stdout",
     "output_type": "stream",
     "text": [
      "Hello Python\n",
      "Hello Python\n",
      "25\n",
      "3.14\n",
      "True\n"
     ]
    }
   ],
   "source": [
    "print('Hello Python')\n",
    "print('Hello Python')\n",
    "print(25)\n",
    "print(3.14)\n",
    "print(True)"
   ]
  },
  {
   "cell_type": "markdown",
   "id": "00bbbc29",
   "metadata": {},
   "source": [
    "참고. Escape 코드 ('문자열 내에서 쓰는것')\n",
    "  - 문자열 내의 일부 문자의 의미를 달리하여 특정한 효과를 주는 것\n",
    "  - \\n : 한 줄 개행\n",
    "  - \\t : 탭(8칸 공백)"
   ]
  },
  {
   "cell_type": "code",
   "execution_count": 2,
   "id": "f23b7eee",
   "metadata": {},
   "outputs": [
    {
     "name": "stdout",
     "output_type": "stream",
     "text": [
      "Hello \n",
      " Python\n",
      "Hello \t Python\n"
     ]
    }
   ],
   "source": [
    "print(\"Hello \\n Python\")\n",
    "print(\"Hello \\t Python\")"
   ]
  },
  {
   "cell_type": "markdown",
   "id": "96e5fe75",
   "metadata": {},
   "source": [
    "소수점 출력하기\n",
    "  - {0:3d} : 0번째, 3글자, d(정수)\n",
    "  - {1:3:2f} : 1번째, 3글자, 소수점 2자리, f(실수형)"
   ]
  },
  {
   "cell_type": "code",
   "execution_count": 3,
   "id": "98a18791",
   "metadata": {
    "scrolled": true
   },
   "outputs": [
    {
     "name": "stdout",
     "output_type": "stream",
     "text": [
      "이름 : 정찬민 , 학점 : 4.2\n",
      "Test1 : 369, Test2: 623.46\n"
     ]
    }
   ],
   "source": [
    "print(\"이름 : {} , 학점 : {}\" .format(\"정찬민\" , 4.2))\n",
    "print(\"Test1 : {0:3d}, Test2: {1:3.2f}\" .format(369, 623.4567))\n"
   ]
  },
  {
   "cell_type": "markdown",
   "id": "c407277d",
   "metadata": {},
   "source": [
    "### 2. 주석(comment)\n",
    "\n",
    " - 코드에서 #으로 시작하는 뒷 부분을 실행하지 않음\n",
    " - python 소스코드 실행시 #은 무시하고 실행\n",
    " - 개발자(사람)가 보기 위한 용도로 사용\n",
    " - 개발시 주석을 잘 활용하는 사람이 좋은 개발자"
   ]
  },
  {
   "cell_type": "code",
   "execution_count": 6,
   "id": "44b7eb99",
   "metadata": {},
   "outputs": [
    {
     "name": "stdout",
     "output_type": "stream",
     "text": [
      "232908\n"
     ]
    }
   ],
   "source": [
    "student_num = '232908'  #학번\n",
    "\n",
    "#학번 출력\n",
    "print(student_num)"
   ]
  },
  {
   "cell_type": "markdown",
   "id": "d2d7cb1b",
   "metadata": {},
   "source": [
    "### 3. 자료형(Type)\n",
    "\n",
    " 1. 문자열(String): \"Hello\" , \"Hi\" (반드시 쌍따옴표 써야함)\n",
    " 2. 정수형 숫자(int):3, 0, -1\n",
    " 3. 실수형 숫자(float):3.1, 0.0, -2.2\n",
    " 4. 논리형(boolean: True, False ( 반드시 대문자 써야함)\n",
    " \n",
    " \n",
    " - type() 함수를 사용해서 자료형 확인 가능\n",
    " "
   ]
  },
  {
   "cell_type": "code",
   "execution_count": 11,
   "id": "508b0715",
   "metadata": {},
   "outputs": [
    {
     "name": "stdout",
     "output_type": "stream",
     "text": [
      "<class 'float'>\n",
      "<class 'str'>\n"
     ]
    }
   ],
   "source": [
    "print(type(3.14))\n",
    "print(type(\"Hi\"))"
   ]
  },
  {
   "cell_type": "code",
   "execution_count": 12,
   "id": "fa7085a0",
   "metadata": {},
   "outputs": [
    {
     "ename": "NameError",
     "evalue": "name '형' is not defined",
     "output_type": "error",
     "traceback": [
      "\u001b[1;31m---------------------------------------------------------------------------\u001b[0m",
      "\u001b[1;31mNameError\u001b[0m                                 Traceback (most recent call last)",
      "\u001b[1;32m~\\AppData\\Local\\Temp\\ipykernel_15344\\2467773563.py\u001b[0m in \u001b[0;36m<module>\u001b[1;34m\u001b[0m\n\u001b[1;32m----> 1\u001b[1;33m \u001b[0m형\u001b[0m\u001b[1;33m\u001b[0m\u001b[1;33m\u001b[0m\u001b[0m\n\u001b[0m",
      "\u001b[1;31mNameError\u001b[0m: name '형' is not defined"
     ]
    }
   ],
   "source": [
    "형변환(Type C)"
   ]
  },
  {
   "cell_type": "markdown",
   "id": "8ea6b035",
   "metadata": {},
   "source": [
    "### None\n",
    "- 아무런 값을 갖지 않을 때 사용\n",
    "- 일반적으로 변수가 초기값을 갖지 않게 하여 해당 변수를 생성할 때 사용\n",
    "- 기타 언어의 NUll과 같은 의미로 사용"
   ]
  },
  {
   "cell_type": "code",
   "execution_count": 4,
   "id": "1a053f1c",
   "metadata": {},
   "outputs": [
    {
     "name": "stdout",
     "output_type": "stream",
     "text": [
      "None\n"
     ]
    }
   ],
   "source": [
    "student_name = None\n",
    "print(student_name)"
   ]
  },
  {
   "cell_type": "markdown",
   "id": "d21a6114",
   "metadata": {},
   "source": [
    "### 4.변수(Variable)\n",
    "- 변수 : 하나의 값을 저장할 수 있는 메모리 공간\n",
    "\n",
    "\n",
    "```python\n",
    "# 변수 선언 및 초기화 방법\n",
    "num = 5\n",
    "```\n",
    "\n",
    "동적 타이핑 언어: 코드 작성시 Type을 명시하지 않음(코드 실행시 Python이 체크)   \n",
    "대입연산자(=) : 우측의 값을 좌측에 대입, 동등(equal)  \n",
    "정적 타이핑 언어: Java, C\n",
    "\n",
    "- Python에서 동등(equal)은 ==사용"
   ]
  },
  {
   "cell_type": "code",
   "execution_count": null,
   "id": "1402fc59",
   "metadata": {},
   "outputs": [],
   "source": [
    "# name 변수 생성\n",
    "# \"Jenong Chan min\" 값을 name 변수에 저장\n",
    "\n",
    "# name → 변수 이름\n",
    "# = → 대입 연산자\n",
    "# \" Jeong Chan Min\" → 값\n",
    "name = \"Jeong Chan Min\""
   ]
  },
  {
   "cell_type": "markdown",
   "id": "0923d1a8",
   "metadata": {},
   "source": [
    "###  변수 명명 규칙(naming rule)\n",
    "1. 영문 대소문자, _, 숫자로만 구성\n",
    "2. 숫자로 시작할 수 없음\n",
    "3. 영어 대소문자 구별\n",
    "4. 예약어 사용불가\n",
    "\n",
    "- 예약어 : Python에서 미리 선정하여 사용 중인 키워드\n",
    "- 예약어는 변수, 함수, 클래스 등의 사용자 정의 이름으로 사용할 수 없음\n",
    "- 예약어 예) for, while, if, None, True, False, return, def 등등"
   ]
  },
  {
   "cell_type": "code",
   "execution_count": 8,
   "id": "281c1371",
   "metadata": {},
   "outputs": [],
   "source": [
    "# 1abc = 5 (X) 숫자로 시작 불가\n",
    "abc1 = 5  #(O)\n",
    "\n",
    "# 영어 대소문자 구별\n",
    "abc = 5  # abc와 Abc는 서로 다른 변수\n",
    "Abc = 3\n",
    "\n",
    "# 예약어 사용불가\n",
    "# None = 3  # (X)\n",
    "# print = 5 # (X)"
   ]
  },
  {
   "cell_type": "markdown",
   "id": "3ba110de",
   "metadata": {},
   "source": [
    "## 5. Naming Method\n",
    "- 변수, 함수, 클래스 등의 사용자 정의 이름에 사용\n",
    "- 프로그램밍 언어별로 사용하는 Naming Method가 다름\n",
    "- Python은 snake_case 사용!\n",
    "\n",
    "1. snake_case: 소문자로 작성, 합성어 '_' 사용\n",
    "2. cameICase: 첫글자 소문자, 합성어 첫글자 대문자\n",
    "3. PascaIcase: 첫글자 대문자, 합성어 첫글자 대문자  \n",
    "  개발자들의 규칙"
   ]
  },
  {
   "cell_type": "markdown",
   "id": "5a39f180",
   "metadata": {},
   "source": [
    "## 6. format 출력\n",
    "1. format(): 과거\n",
    "2. f-string: 최신"
   ]
  },
  {
   "cell_type": "code",
   "execution_count": 10,
   "id": "775c3daa",
   "metadata": {},
   "outputs": [
    {
     "name": "stdout",
     "output_type": "stream",
     "text": [
      "전남대학교 232908, Chan Min 입니다.\n",
      "전남대학교 232908, Chan Min 입니다.\n"
     ]
    }
   ],
   "source": [
    "student_num = 232908\n",
    "student_name = \"Chan Min\"\n",
    "\n",
    "# 출력: 전남대학교 232908, Chanmin 입니다.\n",
    "print(\"전남대학교 {}, {} 입니다.\" .format(student_num, student_name))\n",
    "print(f\"전남대학교 {student_num}, {student_name} 입니다.\")"
   ]
  },
  {
   "cell_type": "markdown",
   "id": "d3a63630",
   "metadata": {},
   "source": [
    "## 7. 사칙연산\n",
    "\n",
    "- 더하기: +\n",
    "- 빼기: -\n",
    "- 곱하기: *\n",
    "- 나누기: /\n",
    "- 나누기(몫)://\n",
    "- 나누기(나머지): %\n",
    "- 제곱: **"
   ]
  }
 ],
 "metadata": {
  "kernelspec": {
   "display_name": "Python 3 (ipykernel)",
   "language": "python",
   "name": "python3"
  },
  "language_info": {
   "codemirror_mode": {
    "name": "ipython",
    "version": 3
   },
   "file_extension": ".py",
   "mimetype": "text/x-python",
   "name": "python",
   "nbconvert_exporter": "python",
   "pygments_lexer": "ipython3",
   "version": "3.9.13"
  }
 },
 "nbformat": 4,
 "nbformat_minor": 5
}
