{
 "cells": [
  {
   "cell_type": "markdown",
   "id": "4aefc30b",
   "metadata": {},
   "source": [
    "## 1. 문자열(string)\n",
    "- 복수개의 문자를 순서대로 나열한 것\n",
    "- 문자열은 '' 또는 \"\" 사이에 문자를 넣어서 생성\n",
    "- 문자열 자체에 '' 또는 \"\"이 있는 경우 각각 그 반대로 사용"
   ]
  },
  {
   "cell_type": "code",
   "execution_count": 1,
   "id": "9862a6c8",
   "metadata": {},
   "outputs": [
    {
     "name": "stdout",
     "output_type": "stream",
     "text": [
      "챗봇: \"만나서 반갑습니다.\"\n"
     ]
    }
   ],
   "source": [
    "print('챗봇: \"만나서 반갑습니다.\"')"
   ]
  },
  {
   "cell_type": "code",
   "execution_count": 2,
   "id": "801e89f5",
   "metadata": {},
   "outputs": [
    {
     "name": "stdout",
     "output_type": "stream",
     "text": [
      "Hi\n",
      "Hi\n",
      "\n",
      "      hi\n",
      "\n",
      "      hi\n"
     ]
    }
   ],
   "source": [
    "print(\"Hi\")  #한 줄 출력\n",
    "print(\"Hi\")  # 한 줄 출력\n",
    "print('''\n",
    "      hi''')  \n",
    "print(\"\"\"\n",
    "      hi\"\"\")"
   ]
  },
  {
   "cell_type": "markdown",
   "id": "0d4d0aa9",
   "metadata": {},
   "source": [
    "## 2. 문자열 인덱스(index)  ★★★\n",
    "- 문자열의 각 문자는 순서(인덱스)가 있음\n",
    "- 첫번째 문자부터 마지막문자까지 순차적으로 인데스를 가짐\n",
    "- 인덱스의 시작은 0번부터 시작\n",
    "- 인덱스는 공백 포함"
   ]
  },
  {
   "cell_type": "markdown",
   "id": "08f8c7df",
   "metadata": {},
   "source": [
    "### 문자 추출\n",
    "- 인덱스번호를 통해서 문자 추출 가능\n",
    "- 인덱스 범위를 벗어나면 error 발생\n",
    "\n",
    "> 변수명[인덱스번호] → name[3]\n"
   ]
  },
  {
   "cell_type": "code",
   "execution_count": 4,
   "id": "0732240b",
   "metadata": {},
   "outputs": [
    {
     "name": "stdout",
     "output_type": "stream",
     "text": [
      "o\n",
      "n\n"
     ]
    }
   ],
   "source": [
    "# 문자열 길이 : 12\n",
    "# 인덱스 범위: 0~11\n",
    "msg = \"Hello Python\"\n",
    "print(msg[4])\n",
    "print(msg[11])"
   ]
  },
  {
   "cell_type": "markdown",
   "id": "a1c742f3",
   "metadata": {},
   "source": [
    "### reverse index(-1)"
   ]
  },
  {
   "cell_type": "code",
   "execution_count": 7,
   "id": "cf0b4c38",
   "metadata": {},
   "outputs": [
    {
     "name": "stdout",
     "output_type": "stream",
     "text": [
      "n\n",
      "t\n"
     ]
    }
   ],
   "source": [
    "# 문자열 길이: 12\n",
    "# 인덱스 범위 : -1 ~ -12  ★\n",
    "msg = \"Hello Python\"\n",
    "\n",
    "print(msg[-1])\n",
    "print(msg[-4])"
   ]
  },
  {
   "cell_type": "markdown",
   "id": "d5909a6a",
   "metadata": {},
   "source": [
    "## 3. 문자열 슬라이싱\n",
    "- a[3]은 인덱스를 통해 문자 하나만 추출 가능\n",
    "- 부분 문자열을 추출하고 싶은 경우 슬라이싱 사용\n",
    "- 시작 인덱스 번호가 생략되면 0으로 설정\n",
    "- 끝 인덱스 번호가 생략되면 -1으로 설정\n",
    "\n",
    "> 변수명[시작:끝] → name[3:5]  3~4(끝 인덱스 -1)\n"
   ]
  },
  {
   "cell_type": "code",
   "execution_count": 17,
   "id": "f98bb5d7",
   "metadata": {},
   "outputs": [
    {
     "name": "stdout",
     "output_type": "stream",
     "text": [
      "P\n",
      "Python\n",
      "Python\n",
      " is all you need\n",
      "Python is all you need\n"
     ]
    }
   ],
   "source": [
    "comment = \"Python is all you need\"\n",
    "\n",
    "print(comment[0])\n",
    "print(comment[0:6])  # 0~5\n",
    "print(comment[:6])  #처음부터 ~ 5\n",
    "print(comment[6:])\n",
    "print(comment[:])"
   ]
  },
  {
   "cell_type": "code",
   "execution_count": 28,
   "id": "43ef8a98",
   "metadata": {},
   "outputs": [
    {
     "name": "stdout",
     "output_type": "stream",
     "text": [
      "need\n",
      "need\n"
     ]
    }
   ],
   "source": [
    "# need만 추출\n",
    "comment = \"Python is all you need\"\n",
    "print(comment[18:22])\n",
    "print(comment[-4:])"
   ]
  },
  {
   "cell_type": "markdown",
   "id": "720c4e1d",
   "metadata": {},
   "source": [
    "## 4. 문장열 멤버 함수"
   ]
  },
  {
   "cell_type": "code",
   "execution_count": 30,
   "id": "5bc407d3",
   "metadata": {},
   "outputs": [],
   "source": [
    "str = \"Hello World\""
   ]
  },
  {
   "cell_type": "code",
   "execution_count": 31,
   "id": "db16158a",
   "metadata": {
    "scrolled": true
   },
   "outputs": [
    {
     "name": "stdout",
     "output_type": "stream",
     "text": [
      "11\n"
     ]
    }
   ],
   "source": [
    "# len() : 문자열 길이를 계산\n",
    "print(len(str))"
   ]
  },
  {
   "cell_type": "code",
   "execution_count": 32,
   "id": "6adb8fd8",
   "metadata": {},
   "outputs": [
    {
     "name": "stdout",
     "output_type": "stream",
     "text": [
      "HELLO WORLD\n",
      "hello world\n"
     ]
    }
   ],
   "source": [
    "# upper() and lower(): 대문자 또는 소문자로 변경\n",
    "print(str.upper())\n",
    "print(str.lower())"
   ]
  },
  {
   "cell_type": "code",
   "execution_count": 37,
   "id": "50b5d13c",
   "metadata": {},
   "outputs": [
    {
     "data": {
      "text/plain": [
       "'Hellz Wzrld'"
      ]
     },
     "execution_count": 37,
     "metadata": {},
     "output_type": "execute_result"
    }
   ],
   "source": [
    "# replace() : 문자열 내의 특정한 문자 치환\n",
    "str. replace(\"o\", \"z\")  # 복수개 치환\n",
    "\n"
   ]
  },
  {
   "cell_type": "code",
   "execution_count": 39,
   "id": "886dd0fc",
   "metadata": {},
   "outputs": [
    {
     "name": "stdout",
     "output_type": "stream",
     "text": [
      "['hello ', 'orld ', 'hat a nice ', 'eather']\n",
      "['hello', 'world', 'what', 'a', 'nice', 'weather']\n"
     ]
    }
   ],
   "source": [
    "# split() : 구분자를 기본으로 문자열 분할, default\n",
    "a = \"hello world what a nice weather\"\n",
    "print(a.split(\"w\"))\n",
    "print(a.split())"
   ]
  },
  {
   "cell_type": "code",
   "execution_count": 1,
   "id": "813b8a74",
   "metadata": {},
   "outputs": [
    {
     "name": "stdout",
     "output_type": "stream",
     "text": [
      "아이디:          cksals7656       , 길이: 26\n",
      "아이디: cksals7656, 길이: 10\n"
     ]
    }
   ],
   "source": [
    "# strip() : 문자열의 좌우공백을 제거\n",
    "id = \"         cksals7656       \"\n",
    "print(f\"아이디: {id}, 길이: {len(id)}\")\n",
    "print(f\"아이디: {id.strip()}, 길이: {len(id.strip())}\")"
   ]
  },
  {
   "cell_type": "code",
   "execution_count": 6,
   "id": "91d0324f",
   "metadata": {},
   "outputs": [
    {
     "name": "stdout",
     "output_type": "stream",
     "text": [
      "2\n",
      "3\n",
      "6\n",
      "6\n"
     ]
    }
   ],
   "source": [
    "# find() and rfind()\n",
    "#  - 문자열 내부의 특정 문자의 인덱스를 출력\n",
    "str = \"Hello Python\"\n",
    "print(str. find('l'))    # . = 참조연산자 , str에서 find를 할거다\n",
    "print(str. rfind('l')) \n",
    "print(str. find(\"Python\"))\n",
    "print(str. rfind(\"Python\"))"
   ]
  },
  {
   "cell_type": "code",
   "execution_count": 7,
   "id": "41e92ebf",
   "metadata": {},
   "outputs": [
    {
     "name": "stdout",
     "output_type": "stream",
     "text": [
      "True\n",
      "False\n"
     ]
    }
   ],
   "source": [
    "# in() : 특정 문자열을 포함하고 있는지 확인(True, False)\n",
    "\n",
    "print(\"Hi\" in \"Hi Python\")\n",
    "print(\"Hi\" in \"Hllo  Python\")"
   ]
  }
 ],
 "metadata": {
  "kernelspec": {
   "display_name": "Python 3 (ipykernel)",
   "language": "python",
   "name": "python3"
  },
  "language_info": {
   "codemirror_mode": {
    "name": "ipython",
    "version": 3
   },
   "file_extension": ".py",
   "mimetype": "text/x-python",
   "name": "python",
   "nbconvert_exporter": "python",
   "pygments_lexer": "ipython3",
   "version": "3.9.13"
  }
 },
 "nbformat": 4,
 "nbformat_minor": 5
}
